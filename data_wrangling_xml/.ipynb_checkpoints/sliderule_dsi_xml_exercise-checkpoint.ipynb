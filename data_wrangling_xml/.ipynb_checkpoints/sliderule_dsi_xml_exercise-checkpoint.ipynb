{
 "cells": [
  {
   "cell_type": "markdown",
   "metadata": {},
   "source": [
    "# XML example and exercise\n",
    "****\n",
    "+ study examples of accessing nodes in XML tree structure  \n",
    "+ work on exercise to be completed and submitted\n",
    "****\n",
    "+ reference: https://docs.python.org/2.7/library/xml.etree.elementtree.html\n",
    "+ data source: http://www.dbis.informatik.uni-goettingen.de/Mondial\n",
    "****"
   ]
  },
  {
   "cell_type": "code",
   "execution_count": 2,
   "metadata": {
    "collapsed": true
   },
   "outputs": [],
   "source": [
    "from xml.etree import ElementTree as ET"
   ]
  },
  {
   "cell_type": "markdown",
   "metadata": {},
   "source": [
    "## XML example\n",
    "\n",
    "+ for details about tree traversal and iterators, see https://docs.python.org/2.7/library/xml.etree.elementtree.html"
   ]
  },
  {
   "cell_type": "code",
   "execution_count": 3,
   "metadata": {
    "collapsed": false
   },
   "outputs": [],
   "source": [
    "document_tree = ET.parse( './data/mondial_database_less.xml' )"
   ]
  },
  {
   "cell_type": "code",
   "execution_count": 4,
   "metadata": {
    "collapsed": false
   },
   "outputs": [
    {
     "name": "stdout",
     "output_type": "stream",
     "text": [
      "Albania\n",
      "Greece\n",
      "Macedonia\n",
      "Serbia\n",
      "Montenegro\n",
      "Kosovo\n",
      "Andorra\n"
     ]
    }
   ],
   "source": [
    "# print names of all countries\n",
    "for child in document_tree.getroot():\n",
    "    print child.find('name').text"
   ]
  },
  {
   "cell_type": "code",
   "execution_count": 5,
   "metadata": {
    "collapsed": false
   },
   "outputs": [
    {
     "name": "stdout",
     "output_type": "stream",
     "text": [
      "* Albania: Tirana, Shkodër, Durrës, Vlorë, Elbasan, Korçë\n",
      "* Greece: Komotini, Kavala, Athina, Peiraias, Peristeri, Acharnes, Patra, Kozani, Kerkyra, Ioannina, Thessaloniki, Iraklio, Chania, Ermoupoli, Rhodes, Tripoli, Lamia, Chalkida, Larissa, Volos, Mytilini, Karyes\n",
      "* Macedonia: Skopje, Kumanovo\n",
      "* Serbia: Beograd, Novi Sad, Niš\n",
      "* Montenegro: Podgorica\n",
      "* Kosovo: Prishtine\n",
      "* Andorra: Andorra la Vella\n"
     ]
    }
   ],
   "source": [
    "# print names of all countries and their cities\n",
    "for element in document_tree.iterfind('country'):\n",
    "    print '* ' + element.find('name').text + ':',\n",
    "    capitals_string = ''\n",
    "    for subelement in element.getiterator('city'):\n",
    "        capitals_string += subelement.find('name').text + ', '\n",
    "    print capitals_string[:-2]"
   ]
  },
  {
   "cell_type": "markdown",
   "metadata": {},
   "source": [
    "****\n",
    "## XML exercise\n",
    "\n",
    "Using data in 'data/mondial_database.xml', the examples above, and refering to https://docs.python.org/2.7/library/xml.etree.elementtree.html, find\n",
    "\n",
    "1. 10 countries with the lowest infant mortality rates\n",
    "2. 10 cities with the largest population\n",
    "3. 10 ethnic groups with the largest overall populations (sum of best/latest estimates over all countries)\n",
    "4. name and country of a) longest river, b) largest lake and c) airport at highest elevation"
   ]
  },
  {
   "cell_type": "code",
   "execution_count": 6,
   "metadata": {
    "collapsed": false
   },
   "outputs": [],
   "source": [
    "document = ET.parse( './data/mondial_database.xml' )"
   ]
  },
  {
   "cell_type": "markdown",
   "metadata": {},
   "source": [
    "# 10 countries with the lowest infant mortality rates"
   ]
  },
  {
   "cell_type": "code",
   "execution_count": 7,
   "metadata": {
    "collapsed": false
   },
   "outputs": [],
   "source": [
    "infant_dict = {}\n",
    "for element in document.iterfind('country'):\n",
    "    if element.find('infant_mortality') == None:\n",
    "        infant_dict[element.find('name').text] = ''\n",
    "    else: \n",
    "        infant_dict[element.find('name').text] = float(element.find('infant_mortality').text)"
   ]
  },
  {
   "cell_type": "code",
   "execution_count": 8,
   "metadata": {
    "collapsed": false
   },
   "outputs": [
    {
     "name": "stdout",
     "output_type": "stream",
     "text": [
      "Monaco 1.81\n",
      "Japan 2.13\n",
      "Bermuda 2.48\n",
      "Norway 2.48\n",
      "Singapore 2.53\n",
      "Sweden 2.6\n",
      "Czech Republic 2.63\n",
      "Hong Kong 2.73\n",
      "Macao 3.13\n",
      "Iceland 3.15\n"
     ]
    }
   ],
   "source": [
    "for w in sorted(infant_dict, key=infant_dict.get, reverse=False)[0:10]:\n",
    "    print w, infant_dict[w] #country with lowest infant mortality"
   ]
  },
  {
   "cell_type": "markdown",
   "metadata": {},
   "source": [
    "# 10 cities with the largest population"
   ]
  },
  {
   "cell_type": "code",
   "execution_count": 9,
   "metadata": {
    "collapsed": false
   },
   "outputs": [
    {
     "name": "stdout",
     "output_type": "stream",
     "text": [
      "No population for the city\n",
      "No population for the city\n",
      "No population for the city\n",
      "No population for the city\n",
      "No population for the city\n",
      "No population for the city\n",
      "No population for the city\n",
      "No population for the city\n",
      "No population for the city\n",
      "No population for the city\n",
      "No population for the city\n",
      "No population for the city\n",
      "No population for the city\n",
      "No population for the city\n",
      "No population for the city\n",
      "No population for the city\n",
      "No population for the city\n",
      "No population for the city\n",
      "No population for the city\n",
      "No population for the city\n",
      "No population for the city\n",
      "No population for the city\n",
      "No population for the city\n",
      "No population for the city\n",
      "No population for the city\n",
      "No population for the city\n",
      "No population for the city\n",
      "No population for the city\n",
      "No population for the city\n",
      "No population for the city\n",
      "No population for the city\n",
      "No population for the city\n",
      "No population for the city\n",
      "No population for the city\n",
      "No population for the city\n",
      "No population for the city\n",
      "No population for the city\n",
      "No population for the city\n",
      "No population for the city\n",
      "No population for the city\n",
      "No population for the city\n",
      "No population for the city\n",
      "No population for the city\n",
      "No population for the city\n",
      "No population for the city\n",
      "No population for the city\n",
      "No population for the city\n",
      "No population for the city\n",
      "No population for the city\n",
      "No population for the city\n",
      "No population for the city\n",
      "No population for the city\n",
      "No population for the city\n",
      "No population for the city\n",
      "No population for the city\n",
      "No population for the city\n",
      "No population for the city\n",
      "No population for the city\n",
      "No population for the city\n",
      "No population for the city\n",
      "No population for the city\n",
      "No population for the city\n",
      "No population for the city\n",
      "No population for the city\n",
      "No population for the city\n",
      "No population for the city\n",
      "No population for the city\n",
      "No population for the city\n",
      "No population for the city\n",
      "No population for the city\n",
      "No population for the city\n",
      "No population for the city\n",
      "No population for the city\n",
      "No population for the city\n",
      "No population for the city\n",
      "No population for the city\n",
      "No population for the city\n",
      "No population for the city\n",
      "No population for the city\n",
      "No population for the city\n",
      "No population for the city\n",
      "No population for the city\n",
      "No population for the city\n",
      "No population for the city\n",
      "No population for the city\n",
      "No population for the city\n",
      "No population for the city\n",
      "No population for the city\n",
      "No population for the city\n",
      "No population for the city\n",
      "No population for the city\n",
      "No population for the city\n",
      "No population for the city\n",
      "No population for the city\n",
      "No population for the city\n",
      "No population for the city\n",
      "No population for the city\n",
      "No population for the city\n",
      "No population for the city\n",
      "No population for the city\n",
      "No population for the city\n",
      "No population for the city\n",
      "No population for the city\n",
      "No population for the city\n",
      "No population for the city\n",
      "No population for the city\n",
      "No population for the city\n",
      "No population for the city\n",
      "No population for the city\n",
      "No population for the city\n",
      "No population for the city\n",
      "No population for the city\n",
      "No population for the city\n",
      "No population for the city\n",
      "No population for the city\n",
      "No population for the city\n",
      "No population for the city\n",
      "No population for the city\n",
      "No population for the city\n",
      "No population for the city\n",
      "No population for the city\n",
      "No population for the city\n",
      "No population for the city\n",
      "No population for the city\n",
      "No population for the city\n",
      "No population for the city\n",
      "No population for the city\n",
      "No population for the city\n",
      "No population for the city\n",
      "No population for the city\n",
      "No population for the city\n",
      "No population for the city\n",
      "No population for the city\n",
      "No population for the city\n",
      "No population for the city\n",
      "No population for the city\n",
      "No population for the city\n",
      "No population for the city\n",
      "No population for the city\n",
      "No population for the city\n",
      "No population for the city\n",
      "No population for the city\n",
      "No population for the city\n",
      "No population for the city\n",
      "No population for the city\n",
      "No population for the city\n",
      "No population for the city\n",
      "No population for the city\n",
      "No population for the city\n",
      "No population for the city\n",
      "No population for the city\n",
      "No population for the city\n",
      "No population for the city\n",
      "No population for the city\n",
      "No population for the city\n",
      "No population for the city\n",
      "No population for the city\n",
      "No population for the city\n",
      "No population for the city\n",
      "No population for the city\n",
      "No population for the city\n",
      "No population for the city\n",
      "No population for the city\n",
      "No population for the city\n",
      "No population for the city\n",
      "No population for the city\n",
      "No population for the city\n",
      "No population for the city\n",
      "No population for the city\n",
      "No population for the city\n",
      "No population for the city\n",
      "No population for the city\n",
      "No population for the city\n",
      "No population for the city\n",
      "No population for the city\n",
      "No population for the city\n",
      "No population for the city\n",
      "No population for the city\n",
      "No population for the city\n",
      "No population for the city\n",
      "No population for the city\n",
      "No population for the city\n",
      "No population for the city\n",
      "No population for the city\n",
      "No population for the city\n",
      "No population for the city\n",
      "No population for the city\n",
      "No population for the city\n",
      "No population for the city\n",
      "No population for the city\n",
      "No population for the city\n",
      "No population for the city\n",
      "No population for the city\n",
      "No population for the city\n",
      "No population for the city\n",
      "No population for the city\n",
      "No population for the city\n",
      "No population for the city\n",
      "No population for the city\n",
      "No population for the city\n",
      "No population for the city\n",
      "No population for the city\n",
      "No population for the city\n",
      "No population for the city\n",
      "No population for the city\n",
      "No population for the city\n",
      "No population for the city\n",
      "No population for the city\n",
      "No population for the city\n",
      "No population for the city\n",
      "No population for the city\n",
      "No population for the city\n",
      "No population for the city\n",
      "No population for the city\n",
      "No population for the city\n",
      "No population for the city\n",
      "No population for the city\n",
      "No population for the city\n",
      "No population for the city\n",
      "No population for the city\n",
      "No population for the city\n",
      "No population for the city\n",
      "No population for the city\n",
      "No population for the city\n",
      "No population for the city\n",
      "No population for the city\n",
      "No population for the city\n",
      "No population for the city\n",
      "No population for the city\n",
      "No population for the city\n",
      "No population for the city\n",
      "No population for the city\n",
      "No population for the city\n",
      "No population for the city\n",
      "No population for the city\n",
      "No population for the city\n",
      "No population for the city\n",
      "No population for the city\n",
      "No population for the city\n",
      "No population for the city\n",
      "No population for the city\n",
      "No population for the city\n",
      "No population for the city\n",
      "No population for the city\n",
      "No population for the city\n",
      "No population for the city\n",
      "No population for the city\n",
      "No population for the city\n",
      "No population for the city\n",
      "No population for the city\n",
      "No population for the city\n",
      "No population for the city\n",
      "No population for the city\n",
      "No population for the city\n",
      "No population for the city\n",
      "No population for the city\n",
      "No population for the city\n",
      "No population for the city\n",
      "No population for the city\n",
      "No population for the city\n",
      "No population for the city\n",
      "No population for the city\n",
      "No population for the city\n",
      "No population for the city\n",
      "No population for the city\n",
      "No population for the city\n",
      "No population for the city\n",
      "No population for the city\n",
      "No population for the city\n",
      "No population for the city\n",
      "No population for the city\n",
      "No population for the city\n",
      "No population for the city\n",
      "No population for the city\n",
      "No population for the city\n",
      "No population for the city\n",
      "No population for the city\n",
      "No population for the city\n",
      "No population for the city\n",
      "No population for the city\n",
      "No population for the city\n",
      "No population for the city\n",
      "No population for the city\n",
      "No population for the city\n",
      "No population for the city\n",
      "No population for the city\n",
      "No population for the city\n",
      "No population for the city\n",
      "No population for the city\n",
      "No population for the city\n",
      "No population for the city\n",
      "No population for the city\n",
      "No population for the city\n",
      "No population for the city\n",
      "No population for the city\n",
      "No population for the city\n",
      "No population for the city\n",
      "No population for the city\n",
      "No population for the city\n",
      "No population for the city\n",
      "No population for the city\n",
      "No population for the city\n",
      "No population for the city\n",
      "No population for the city\n",
      "No population for the city\n",
      "No population for the city\n",
      "No population for the city\n",
      "No population for the city\n",
      "No population for the city\n",
      "No population for the city\n",
      "No population for the city\n",
      "No population for the city\n",
      "No population for the city\n",
      "No population for the city\n",
      "No population for the city\n",
      "No population for the city\n",
      "No population for the city\n",
      "No population for the city\n",
      "No population for the city\n",
      "No population for the city\n",
      "No population for the city\n",
      "No population for the city\n",
      "No population for the city\n",
      "No population for the city\n",
      "No population for the city\n",
      "No population for the city\n",
      "No population for the city\n",
      "No population for the city\n",
      "No population for the city\n",
      "No population for the city\n"
     ]
    }
   ],
   "source": [
    "population_city_dict = {}\n",
    "for city in document.findall(\"./country/city\"):\n",
    "    name = city.findall('name')[-1]\n",
    "    population = city.find('population')\n",
    "    if population == None:\n",
    "        print \"No population for the city\"\n",
    "    else:\n",
    "        last_population = city.findall('population')[-1]\n",
    "        population_city_dict[name.text] = float(last_population.text)\n",
    "\n",
    "    \n",
    "for city in document.findall(\"./country/province/city\"):\n",
    "    name = city.findall('name')[-1]\n",
    "    population = city.find('population')\n",
    "    if population == None:\n",
    "        print \"No population for the city\"\n",
    "    else:\n",
    "        last_population = city.findall('population')[-1]\n",
    "        population_city_dict[name.text] = float(last_population.text)"
   ]
  },
  {
   "cell_type": "code",
   "execution_count": 10,
   "metadata": {
    "collapsed": false
   },
   "outputs": [
    {
     "data": {
      "text/plain": [
       "[('Shanghai', 22315474.0),\n",
       " ('Istanbul', 13710512.0),\n",
       " ('Mumbai', 12442373.0),\n",
       " ('Moscow', 11979529.0),\n",
       " ('Beijing', 11716620.0),\n",
       " (u'S\\xe3o Paulo', 11152344.0),\n",
       " ('Tianjin', 11090314.0),\n",
       " ('Guangzhou', 11071424.0),\n",
       " ('Delhi', 11034555.0),\n",
       " ('Shenzhen', 10358381.0)]"
      ]
     },
     "execution_count": 10,
     "metadata": {},
     "output_type": "execute_result"
    }
   ],
   "source": [
    "import operator\n",
    "sorted_cities = sorted(population_city_dict.items(), key=operator.itemgetter(1), reverse= True)\n",
    "sorted_cities[0:10]"
   ]
  },
  {
   "cell_type": "markdown",
   "metadata": {},
   "source": [
    "# 10 ethnic groups with the largest overall populations (sum of best/latest estimates over all countries)"
   ]
  },
  {
   "cell_type": "code",
   "execution_count": 11,
   "metadata": {
    "collapsed": true
   },
   "outputs": [],
   "source": [
    "#country population dictionary\n",
    "population_dict = {}\n",
    "for country in document.findall('country'):\n",
    "    name = country.find('name')\n",
    "    population = country.findall('population')[-1]\n",
    "    population_dict[name.text] = float(population.text)"
   ]
  },
  {
   "cell_type": "code",
   "execution_count": 12,
   "metadata": {
    "collapsed": false
   },
   "outputs": [],
   "source": [
    "ethnicity_dict = {}\n",
    "#initializing to zero all enthinity groups population\n",
    "for group in document.findall(\"./country/ethnicgroup\"):\n",
    "    ethnicity_dict[group.text] =  0\n",
    "\n",
    "#adding the contribution given by all countries    \n",
    "for country in document.findall('country'):\n",
    "    population = population_dict[country.find('name').text]\n",
    "    for group in country.getiterator('ethnicgroup'):\n",
    "        ethnicity_dict[group.text] += (population*float(group.attrib['percentage']))/100.0"
   ]
  },
  {
   "cell_type": "code",
   "execution_count": 13,
   "metadata": {
    "collapsed": false
   },
   "outputs": [
    {
     "data": {
      "text/plain": [
       "[('Han Chinese', 1245058800.0),\n",
       " ('Indo-Aryan', 871815583.44),\n",
       " ('European', 494872219.71959996),\n",
       " ('African', 318325120.369),\n",
       " ('Dravidian', 302713744.25),\n",
       " ('Mestizo', 157734354.93699998),\n",
       " ('Bengali', 146776916.72),\n",
       " ('Russian', 131856996.077),\n",
       " ('Japanese', 126534212.0),\n",
       " ('Malay', 121993550.374)]"
      ]
     },
     "execution_count": 13,
     "metadata": {},
     "output_type": "execute_result"
    }
   ],
   "source": [
    "sorted(ethnicity_dict.items(), reverse=True, key=operator.itemgetter(1))[0:10]"
   ]
  },
  {
   "cell_type": "markdown",
   "metadata": {},
   "source": [
    "# Name and country of a) longest river, b) largest lake and c) airport at highest elevation"
   ]
  },
  {
   "cell_type": "code",
   "execution_count": 14,
   "metadata": {
    "collapsed": false
   },
   "outputs": [],
   "source": [
    "import pandas as pd\n",
    "import numpy as np\n",
    "river = {'name':[],'country':[],'length':[]}\n",
    "rivers_df = pd.DataFrame(river)"
   ]
  },
  {
   "cell_type": "code",
   "execution_count": 15,
   "metadata": {
    "collapsed": false
   },
   "outputs": [],
   "source": [
    "for river in document.findall(\"./river\"):\n",
    "    name = river.find('name').text\n",
    "    if river.find('length') == None:\n",
    "        length = 0\n",
    "    else:\n",
    "        length = float(river.find('length').text)\n",
    "    #country = river.find('located')\n",
    "    if river.find('source') == None:\n",
    "        country = 'Unknown'\n",
    "    else:\n",
    "        country = river.find('source').get('country')\n",
    "    rivers_df = rivers_df.append({'name':name, 'country':country, 'length':length}, ignore_index=True)"
   ]
  },
  {
   "cell_type": "code",
   "execution_count": 16,
   "metadata": {
    "collapsed": false
   },
   "outputs": [
    {
     "data": {
      "text/html": [
       "<div>\n",
       "<table border=\"1\" class=\"dataframe\">\n",
       "  <thead>\n",
       "    <tr style=\"text-align: right;\">\n",
       "      <th></th>\n",
       "      <th>country</th>\n",
       "      <th>length</th>\n",
       "      <th>name</th>\n",
       "    </tr>\n",
       "  </thead>\n",
       "  <tbody>\n",
       "    <tr>\n",
       "      <th>190</th>\n",
       "      <td>SUD</td>\n",
       "      <td>0.0</td>\n",
       "      <td>Nile</td>\n",
       "    </tr>\n",
       "    <tr>\n",
       "      <th>193</th>\n",
       "      <td>SSD</td>\n",
       "      <td>0.0</td>\n",
       "      <td>White Nile</td>\n",
       "    </tr>\n",
       "    <tr>\n",
       "      <th>198</th>\n",
       "      <td>EAU</td>\n",
       "      <td>0.0</td>\n",
       "      <td>Bahr el-Djebel/Albert-Nil</td>\n",
       "    </tr>\n",
       "    <tr>\n",
       "      <th>200</th>\n",
       "      <td>EAU</td>\n",
       "      <td>0.0</td>\n",
       "      <td>Victoria Nile</td>\n",
       "    </tr>\n",
       "    <tr>\n",
       "      <th>222</th>\n",
       "      <td>ZRE</td>\n",
       "      <td>0.0</td>\n",
       "      <td>Lualaba</td>\n",
       "    </tr>\n",
       "  </tbody>\n",
       "</table>\n",
       "</div>"
      ],
      "text/plain": [
       "    country  length                       name\n",
       "190     SUD     0.0                       Nile\n",
       "193     SSD     0.0                 White Nile\n",
       "198     EAU     0.0  Bahr el-Djebel/Albert-Nil\n",
       "200     EAU     0.0              Victoria Nile\n",
       "222     ZRE     0.0                    Lualaba"
      ]
     },
     "execution_count": 16,
     "metadata": {},
     "output_type": "execute_result"
    }
   ],
   "source": [
    "#it seems that the Nile(s) don't have associated length\n",
    "rivers_df[rivers_df['length']==0]"
   ]
  },
  {
   "cell_type": "code",
   "execution_count": 17,
   "metadata": {
    "collapsed": false
   },
   "outputs": [
    {
     "data": {
      "text/html": [
       "<div>\n",
       "<table border=\"1\" class=\"dataframe\">\n",
       "  <thead>\n",
       "    <tr style=\"text-align: right;\">\n",
       "      <th></th>\n",
       "      <th>country</th>\n",
       "      <th>length</th>\n",
       "      <th>name</th>\n",
       "    </tr>\n",
       "  </thead>\n",
       "  <tbody>\n",
       "    <tr>\n",
       "      <th>174</th>\n",
       "      <td>PE</td>\n",
       "      <td>6448.0</td>\n",
       "      <td>Amazonas</td>\n",
       "    </tr>\n",
       "  </tbody>\n",
       "</table>\n",
       "</div>"
      ],
      "text/plain": [
       "    country  length      name\n",
       "174      PE  6448.0  Amazonas"
      ]
     },
     "execution_count": 17,
     "metadata": {},
     "output_type": "execute_result"
    }
   ],
   "source": [
    "rivers_df.sort_values(by= ['length'], ascending= False)[0:1]"
   ]
  },
  {
   "cell_type": "code",
   "execution_count": 19,
   "metadata": {
    "collapsed": false
   },
   "outputs": [],
   "source": [
    "lakes = {'name':[],'country':[],'area':[]}\n",
    "lakes_df = pd.DataFrame(lakes)\n",
    "\n",
    "for lake in document.findall(\"./lake\"):\n",
    "    name = lake.find('name').text\n",
    "    if lake.find('area') == None:\n",
    "        area = 0\n",
    "    else:\n",
    "        area= float(lake.find('area').text)\n",
    "    country = lake.get('country')\n",
    "    #if river.find('source') == None:\n",
    "     #   country = 'Unknown'\n",
    "    #else:\n",
    "     #   country = river.find('source').get('country')\n",
    "    lakes_df = lakes_df.append({'name':name, 'country':country, 'area':area}, ignore_index=True)"
   ]
  },
  {
   "cell_type": "code",
   "execution_count": 20,
   "metadata": {
    "collapsed": false
   },
   "outputs": [
    {
     "data": {
      "text/html": [
       "<div>\n",
       "<table border=\"1\" class=\"dataframe\">\n",
       "  <thead>\n",
       "    <tr style=\"text-align: right;\">\n",
       "      <th></th>\n",
       "      <th>area</th>\n",
       "      <th>country</th>\n",
       "      <th>name</th>\n",
       "    </tr>\n",
       "  </thead>\n",
       "  <tbody>\n",
       "    <tr>\n",
       "      <th>54</th>\n",
       "      <td>386400.0</td>\n",
       "      <td>R AZ KAZ IR TM</td>\n",
       "      <td>Caspian Sea</td>\n",
       "    </tr>\n",
       "  </tbody>\n",
       "</table>\n",
       "</div>"
      ],
      "text/plain": [
       "        area         country         name\n",
       "54  386400.0  R AZ KAZ IR TM  Caspian Sea"
      ]
     },
     "execution_count": 20,
     "metadata": {},
     "output_type": "execute_result"
    }
   ],
   "source": [
    "lakes_df.sort_values(by= ['area'], ascending= False)[0:1]"
   ]
  },
  {
   "cell_type": "code",
   "execution_count": 21,
   "metadata": {
    "collapsed": false
   },
   "outputs": [],
   "source": [
    "airports = {'name':[],'country':[],'elevation':[]}\n",
    "airports_df = pd.DataFrame(airports)\n",
    "\n",
    "for airport in document.findall(\"./airport\"):\n",
    "    name = airport.find('name').text\n",
    "    elevation = airport.find('elevation').text\n",
    "    country = airport.get('country')\n",
    "    airports_df = airports_df.append({'name':name, 'country':country, 'elevation':elevation}, ignore_index=True)"
   ]
  },
  {
   "cell_type": "code",
   "execution_count": 22,
   "metadata": {
    "collapsed": false
   },
   "outputs": [
    {
     "data": {
      "text/html": [
       "<div>\n",
       "<table border=\"1\" class=\"dataframe\">\n",
       "  <thead>\n",
       "    <tr style=\"text-align: right;\">\n",
       "      <th></th>\n",
       "      <th>country</th>\n",
       "      <th>elevation</th>\n",
       "      <th>name</th>\n",
       "    </tr>\n",
       "  </thead>\n",
       "  <tbody>\n",
       "    <tr>\n",
       "      <th>536</th>\n",
       "      <td>IR</td>\n",
       "      <td>995</td>\n",
       "      <td>Mashhad</td>\n",
       "    </tr>\n",
       "  </tbody>\n",
       "</table>\n",
       "</div>"
      ],
      "text/plain": [
       "    country elevation     name\n",
       "536      IR       995  Mashhad"
      ]
     },
     "execution_count": 22,
     "metadata": {},
     "output_type": "execute_result"
    }
   ],
   "source": [
    "airports_df.sort_values(by= ['elevation'], ascending= False)[0:1]"
   ]
  },
  {
   "cell_type": "code",
   "execution_count": null,
   "metadata": {
    "collapsed": true
   },
   "outputs": [],
   "source": []
  }
 ],
 "metadata": {
  "kernelspec": {
   "display_name": "Python 2",
   "language": "python",
   "name": "python2"
  },
  "language_info": {
   "codemirror_mode": {
    "name": "ipython",
    "version": 2
   },
   "file_extension": ".py",
   "mimetype": "text/x-python",
   "name": "python",
   "nbconvert_exporter": "python",
   "pygments_lexer": "ipython2",
   "version": "2.7.12"
  }
 },
 "nbformat": 4,
 "nbformat_minor": 0
}
